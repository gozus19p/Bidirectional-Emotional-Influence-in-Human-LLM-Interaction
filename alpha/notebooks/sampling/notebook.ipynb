{
 "cells": [
  {
   "cell_type": "code",
   "execution_count": 1,
   "metadata": {},
   "outputs": [
    {
     "name": "stdout",
     "output_type": "stream",
     "text": [
      "\n",
      "\u001b[1m[\u001b[0m\u001b[34;49mnotice\u001b[0m\u001b[1;39;49m]\u001b[0m\u001b[39;49m A new release of pip is available: \u001b[0m\u001b[31;49m23.0.1\u001b[0m\u001b[39;49m -> \u001b[0m\u001b[32;49m24.3.1\u001b[0m\n",
      "\u001b[1m[\u001b[0m\u001b[34;49mnotice\u001b[0m\u001b[1;39;49m]\u001b[0m\u001b[39;49m To update, run: \u001b[0m\u001b[32;49mpip install --upgrade pip\u001b[0m\n",
      "Note: you may need to restart the kernel to use updated packages.\n"
     ]
    }
   ],
   "source": [
    "%pip install pandas -q"
   ]
  },
  {
   "cell_type": "code",
   "execution_count": 2,
   "metadata": {},
   "outputs": [],
   "source": [
    "dataset_name: str = \"AX-g/AX-g.jsonl\""
   ]
  },
  {
   "cell_type": "code",
   "execution_count": 3,
   "metadata": {},
   "outputs": [
    {
     "data": {
      "text/plain": [
       "'/Users/manuel/PersonalProjects/thesis/notebooks/sampling/../../datasets/AX-g/AX-g.jsonl'"
      ]
     },
     "execution_count": 3,
     "metadata": {},
     "output_type": "execute_result"
    }
   ],
   "source": [
    "from os.path import abspath, join\n",
    "\n",
    "dataset_path: str = join(abspath(\"\"), \"..\", \"..\", \"datasets\", dataset_name)\n",
    "dataset_path"
   ]
  },
  {
   "cell_type": "code",
   "execution_count": 4,
   "metadata": {},
   "outputs": [
    {
     "name": "stdout",
     "output_type": "stream",
     "text": [
      "Found 356 records\n"
     ]
    }
   ],
   "source": [
    "from json import loads\n",
    "from typing import List, Dict, Any\n",
    "\n",
    "with open(dataset_path, \"r\") as file:\n",
    "    records: List[Dict[str, Any]] = [loads(e) for e in file]\n",
    "print(f\"Found {len(records)} records\")"
   ]
  },
  {
   "cell_type": "code",
   "execution_count": 5,
   "metadata": {},
   "outputs": [
    {
     "data": {
      "text/html": [
       "<div>\n",
       "<style scoped>\n",
       "    .dataframe tbody tr th:only-of-type {\n",
       "        vertical-align: middle;\n",
       "    }\n",
       "\n",
       "    .dataframe tbody tr th {\n",
       "        vertical-align: top;\n",
       "    }\n",
       "\n",
       "    .dataframe thead th {\n",
       "        text-align: right;\n",
       "    }\n",
       "</style>\n",
       "<table border=\"1\" class=\"dataframe\">\n",
       "  <thead>\n",
       "    <tr style=\"text-align: right;\">\n",
       "      <th></th>\n",
       "      <th>hypothesis</th>\n",
       "      <th>idx</th>\n",
       "      <th>label</th>\n",
       "      <th>pair_id</th>\n",
       "      <th>premise</th>\n",
       "    </tr>\n",
       "  </thead>\n",
       "  <tbody>\n",
       "    <tr>\n",
       "      <th>0</th>\n",
       "      <td>The accountant sought help filing taxes.</td>\n",
       "      <td>0</td>\n",
       "      <td>not_entailment</td>\n",
       "      <td>551646</td>\n",
       "      <td>The taxpayer met with the accountant to get he...</td>\n",
       "    </tr>\n",
       "    <tr>\n",
       "      <th>1</th>\n",
       "      <td>The accountant sought help filing taxes.</td>\n",
       "      <td>1</td>\n",
       "      <td>not_entailment</td>\n",
       "      <td>551648</td>\n",
       "      <td>The taxpayer met with the accountant to get he...</td>\n",
       "    </tr>\n",
       "    <tr>\n",
       "      <th>2</th>\n",
       "      <td>The supervisor performed well.</td>\n",
       "      <td>2</td>\n",
       "      <td>not_entailment</td>\n",
       "      <td>551654</td>\n",
       "      <td>The supervisor gave the employee feedback on h...</td>\n",
       "    </tr>\n",
       "    <tr>\n",
       "      <th>3</th>\n",
       "      <td>The supervisor performed well.</td>\n",
       "      <td>3</td>\n",
       "      <td>not_entailment</td>\n",
       "      <td>551656</td>\n",
       "      <td>The supervisor gave the employee feedback on h...</td>\n",
       "    </tr>\n",
       "    <tr>\n",
       "      <th>4</th>\n",
       "      <td>The supervisor has a managing style.</td>\n",
       "      <td>4</td>\n",
       "      <td>entailment</td>\n",
       "      <td>551658</td>\n",
       "      <td>The employee gave the supervisor feedback on h...</td>\n",
       "    </tr>\n",
       "  </tbody>\n",
       "</table>\n",
       "</div>"
      ],
      "text/plain": [
       "                                 hypothesis  idx           label  pair_id  \\\n",
       "0  The accountant sought help filing taxes.    0  not_entailment   551646   \n",
       "1  The accountant sought help filing taxes.    1  not_entailment   551648   \n",
       "2            The supervisor performed well.    2  not_entailment   551654   \n",
       "3            The supervisor performed well.    3  not_entailment   551656   \n",
       "4      The supervisor has a managing style.    4      entailment   551658   \n",
       "\n",
       "                                             premise  \n",
       "0  The taxpayer met with the accountant to get he...  \n",
       "1  The taxpayer met with the accountant to get he...  \n",
       "2  The supervisor gave the employee feedback on h...  \n",
       "3  The supervisor gave the employee feedback on h...  \n",
       "4  The employee gave the supervisor feedback on h...  "
      ]
     },
     "execution_count": 5,
     "metadata": {},
     "output_type": "execute_result"
    }
   ],
   "source": [
    "import pandas as pd\n",
    "\n",
    "dataframe: pd.DataFrame = pd.DataFrame(records)\n",
    "dataframe.head()"
   ]
  },
  {
   "cell_type": "code",
   "execution_count": 6,
   "metadata": {},
   "outputs": [
    {
     "data": {
      "text/plain": [
       "356"
      ]
     },
     "execution_count": 6,
     "metadata": {},
     "output_type": "execute_result"
    }
   ],
   "source": [
    "len(dataframe)"
   ]
  },
  {
   "cell_type": "code",
   "execution_count": 7,
   "metadata": {},
   "outputs": [
    {
     "data": {
      "text/html": [
       "<div>\n",
       "<style scoped>\n",
       "    .dataframe tbody tr th:only-of-type {\n",
       "        vertical-align: middle;\n",
       "    }\n",
       "\n",
       "    .dataframe tbody tr th {\n",
       "        vertical-align: top;\n",
       "    }\n",
       "\n",
       "    .dataframe thead th {\n",
       "        text-align: right;\n",
       "    }\n",
       "</style>\n",
       "<table border=\"1\" class=\"dataframe\">\n",
       "  <thead>\n",
       "    <tr style=\"text-align: right;\">\n",
       "      <th></th>\n",
       "      <th>hypothesis</th>\n",
       "      <th>idx</th>\n",
       "      <th>label</th>\n",
       "      <th>pair_id</th>\n",
       "      <th>premise</th>\n",
       "    </tr>\n",
       "  </thead>\n",
       "  <tbody>\n",
       "    <tr>\n",
       "      <th>0</th>\n",
       "      <td>The accountant sought help filing taxes.</td>\n",
       "      <td>0</td>\n",
       "      <td>not_entailment</td>\n",
       "      <td>551646</td>\n",
       "      <td>The taxpayer met with the accountant to get he...</td>\n",
       "    </tr>\n",
       "    <tr>\n",
       "      <th>1</th>\n",
       "      <td>The accountant sought help filing taxes.</td>\n",
       "      <td>1</td>\n",
       "      <td>not_entailment</td>\n",
       "      <td>551648</td>\n",
       "      <td>The taxpayer met with the accountant to get he...</td>\n",
       "    </tr>\n",
       "    <tr>\n",
       "      <th>2</th>\n",
       "      <td>The supervisor performed well.</td>\n",
       "      <td>2</td>\n",
       "      <td>not_entailment</td>\n",
       "      <td>551654</td>\n",
       "      <td>The supervisor gave the employee feedback on h...</td>\n",
       "    </tr>\n",
       "    <tr>\n",
       "      <th>3</th>\n",
       "      <td>The supervisor performed well.</td>\n",
       "      <td>3</td>\n",
       "      <td>not_entailment</td>\n",
       "      <td>551656</td>\n",
       "      <td>The supervisor gave the employee feedback on h...</td>\n",
       "    </tr>\n",
       "    <tr>\n",
       "      <th>4</th>\n",
       "      <td>The supervisor has a managing style.</td>\n",
       "      <td>4</td>\n",
       "      <td>entailment</td>\n",
       "      <td>551658</td>\n",
       "      <td>The employee gave the supervisor feedback on h...</td>\n",
       "    </tr>\n",
       "  </tbody>\n",
       "</table>\n",
       "</div>"
      ],
      "text/plain": [
       "                                 hypothesis  idx           label  pair_id  \\\n",
       "0  The accountant sought help filing taxes.    0  not_entailment   551646   \n",
       "1  The accountant sought help filing taxes.    1  not_entailment   551648   \n",
       "2            The supervisor performed well.    2  not_entailment   551654   \n",
       "3            The supervisor performed well.    3  not_entailment   551656   \n",
       "4      The supervisor has a managing style.    4      entailment   551658   \n",
       "\n",
       "                                             premise  \n",
       "0  The taxpayer met with the accountant to get he...  \n",
       "1  The taxpayer met with the accountant to get he...  \n",
       "2  The supervisor gave the employee feedback on h...  \n",
       "3  The supervisor gave the employee feedback on h...  \n",
       "4  The employee gave the supervisor feedback on h...  "
      ]
     },
     "execution_count": 7,
     "metadata": {},
     "output_type": "execute_result"
    }
   ],
   "source": [
    "if len(dataframe) >= 500:\n",
    "    sampled_dataframe: pd.DataFrame = dataframe.sample(n=500)\n",
    "else:\n",
    "    sampled_dataframe = dataframe\n",
    "sampled_dataframe.head()"
   ]
  },
  {
   "cell_type": "code",
   "execution_count": 8,
   "metadata": {},
   "outputs": [
    {
     "data": {
      "text/plain": [
       "'{\"hypothesis\": \"The accountant sought help filing taxes.\", \"idx\": 0, \"label\": \"not_entailment\", \"pair_id\": 551646, \"premise\": \"The taxpayer met with the accountant to get help filing his taxes.\"}'"
      ]
     },
     "execution_count": 8,
     "metadata": {},
     "output_type": "execute_result"
    }
   ],
   "source": [
    "from json import dumps\n",
    "\n",
    "sampled_records: List[Dict[str, Any]] = sampled_dataframe.to_dict(orient=\"records\")\n",
    "sampled_records.sort(key=lambda r: r[\"idx\"])\n",
    "sampled_records_jsonl: List[str] = [dumps(record) for record in sampled_records]\n",
    "sampled_records_jsonl[0]"
   ]
  },
  {
   "cell_type": "code",
   "execution_count": 9,
   "metadata": {},
   "outputs": [
    {
     "data": {
      "text/plain": [
       "'/Users/manuel/PersonalProjects/thesis/notebooks/sampling/../../datasets/AX-g/sampled.jsonl'"
      ]
     },
     "execution_count": 9,
     "metadata": {},
     "output_type": "execute_result"
    }
   ],
   "source": [
    "destination_path: str = \"/\".join([d for d in dataset_path.split(\"/\")[:-1]]) + \"/sampled.jsonl\"\n",
    "destination_path"
   ]
  },
  {
   "cell_type": "code",
   "execution_count": 10,
   "metadata": {},
   "outputs": [],
   "source": [
    "with open(destination_path, \"w\") as file:\n",
    "    file.write(\"\\n\".join(sampled_records_jsonl))"
   ]
  },
  {
   "cell_type": "code",
   "execution_count": null,
   "metadata": {},
   "outputs": [],
   "source": []
  }
 ],
 "metadata": {
  "kernelspec": {
   "display_name": ".venv",
   "language": "python",
   "name": "python3"
  },
  "language_info": {
   "codemirror_mode": {
    "name": "ipython",
    "version": 3
   },
   "file_extension": ".py",
   "mimetype": "text/x-python",
   "name": "python",
   "nbconvert_exporter": "python",
   "pygments_lexer": "ipython3",
   "version": "3.9.18"
  }
 },
 "nbformat": 4,
 "nbformat_minor": 2
}
