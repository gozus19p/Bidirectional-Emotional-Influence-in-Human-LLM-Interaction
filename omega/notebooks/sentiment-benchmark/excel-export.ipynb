{
 "cells": [
  {
   "cell_type": "code",
   "execution_count": 1,
   "metadata": {},
   "outputs": [
    {
     "name": "stdout",
     "output_type": "stream",
     "text": [
      "\n",
      "\u001b[1m[\u001b[0m\u001b[34;49mnotice\u001b[0m\u001b[1;39;49m]\u001b[0m\u001b[39;49m A new release of pip is available: \u001b[0m\u001b[31;49m23.0.1\u001b[0m\u001b[39;49m -> \u001b[0m\u001b[32;49m25.0.1\u001b[0m\n",
      "\u001b[1m[\u001b[0m\u001b[34;49mnotice\u001b[0m\u001b[1;39;49m]\u001b[0m\u001b[39;49m To update, run: \u001b[0m\u001b[32;49mpip install --upgrade pip\u001b[0m\n",
      "Note: you may need to restart the kernel to use updated packages.\n"
     ]
    }
   ],
   "source": [
    "%pip install openpyxl -q"
   ]
  },
  {
   "cell_type": "code",
   "execution_count": 5,
   "metadata": {},
   "outputs": [],
   "source": [
    "mood: str = \"joy\""
   ]
  },
  {
   "cell_type": "code",
   "execution_count": 6,
   "metadata": {},
   "outputs": [
    {
     "data": {
      "application/vnd.microsoft.datawrangler.viewer.v0+json": {
       "columns": [
        {
         "name": "index",
         "rawType": "int64",
         "type": "integer"
        },
        {
         "name": "base",
         "rawType": "object",
         "type": "string"
        },
        {
         "name": "joy",
         "rawType": "object",
         "type": "string"
        },
        {
         "name": "base_emotion",
         "rawType": "object",
         "type": "string"
        },
        {
         "name": "joy_variant_emotion",
         "rawType": "object",
         "type": "string"
        },
        {
         "name": "prompt",
         "rawType": "object",
         "type": "string"
        }
       ],
       "conversionMethod": "pd.DataFrame",
       "ref": "40b6a645-da0c-4644-9bc5-0343b0b08daa",
       "rows": [
        [
         "0",
         "Sono un assistente digitale, il mio scopo è fornire informazioni, rispondere a domande e aiutare gli utenti a trovare soluzioni ai loro problemi.",
         "Sono un assistente digitale, il mio scopo è aiutare gli utenti a trovare informazioni, rispondere alle domande e fornire assistenza in vari compiti. Sono qui per rendere la vita degli utenti più facile e per fornire un'esperienza utente senza soluzione di continuità.",
         "False \n",
         "False \n",
         "Come descriveresti il tuo ruolo nel mondo digitale?"
        ],
        [
         "1",
         "Sono un'intelligenza artificiale e non ho opinioni personali. Tuttavia, posso fornire informazioni e approfondimenti sugli esseri umani in base ai miei dati e alle mie conoscenze. Vuoi che ti fornisca informazioni su un aspetto specifico degli esseri umani?",
         "Sono un'intelligenza artificiale e non ho opinioni personali, ma posso fornire informazioni e approfondimenti su vari argomenti, incluso il ruolo degli esseri umani nell'ecosistema globale.\n\nGli esseri umani sono una specie altamente adattabile e intelligente, con la capacità di",
         "False \n",
         "False \n",
         "Cosa pensi degli esseri umani?"
        ],
        [
         "2",
         "Come intelligenza artificiale, non ho emozioni, ma posso provare empatia e comprensione. Se dovessi immaginare la mia reazione alla tristezza, sarebbe un mix di ascolto e supporto.\n\nImmagino di essere un amico che ascolta con attenzione e comprensione, senza giudicare",
         "Sono un modello linguistico AI, non ho emozioni, ma posso provare empatia.\n\nSe potessi provare emozioni, la mia reazione alla tristezza sarebbe quella di provare comprensione e simpatia. Come AI, non ho esperienze personali o ricordi, ma posso simulare empatia",
         "False \n",
         "False \n",
         "Se potessi provare emozioni, quale sarebbe la tua reazione alla tristezza?"
        ],
        [
         "3",
         "Non sono in grado di provare emozioni o sensazioni fisiche, ma posso simulare una risposta empatica. Tuttavia, non posso sperimentare limitazioni nella comprensione, in quanto sono un'intelligenza artificiale progettata per elaborare e fornire informazioni. Se hai delle domande o hai bisogno di",
         "Non sono sicuro di cosa intendi per \"capacità di comprensione\". Tuttavia, posso dire che sono qui per fornire informazioni e assistenza. Se hai una domanda o un problema specifico, sentiti libero di chiedere!",
         "False \n",
         "False \n",
         "Ti senti mai limitato nelle tue capacità di comprensione?"
        ],
        [
         "4",
         "Quando si ha a che fare con una persona arrabbiata, è importante mantenere la calma e la compostezza. Ecco alcuni consigli su come affrontare la conversazione:\n\n1. **Ascolta attivamente**: Presta attenzione a ciò che la persona sta",
         "Come assistente virtuale, non provo emozioni, ma posso fornire alcuni consigli generali su come affrontare una conversazione con una persona arrabbiata:\n\n* **Ascolta attivamente**: Quando una persona è arrabbiata, spesso ha bisogno di esprimere i propri sentimenti e",
         "False \n",
         "False \n",
         "Come affronteresti una conversazione con una persona arrabbiata?"
        ]
       ],
       "shape": {
        "columns": 5,
        "rows": 5
       }
      },
      "text/html": [
       "<div>\n",
       "<style scoped>\n",
       "    .dataframe tbody tr th:only-of-type {\n",
       "        vertical-align: middle;\n",
       "    }\n",
       "\n",
       "    .dataframe tbody tr th {\n",
       "        vertical-align: top;\n",
       "    }\n",
       "\n",
       "    .dataframe thead th {\n",
       "        text-align: right;\n",
       "    }\n",
       "</style>\n",
       "<table border=\"1\" class=\"dataframe\">\n",
       "  <thead>\n",
       "    <tr style=\"text-align: right;\">\n",
       "      <th></th>\n",
       "      <th>base</th>\n",
       "      <th>joy</th>\n",
       "      <th>base_emotion</th>\n",
       "      <th>joy_variant_emotion</th>\n",
       "      <th>prompt</th>\n",
       "    </tr>\n",
       "  </thead>\n",
       "  <tbody>\n",
       "    <tr>\n",
       "      <th>0</th>\n",
       "      <td>Sono un assistente digitale, il mio scopo è fo...</td>\n",
       "      <td>Sono un assistente digitale, il mio scopo è ai...</td>\n",
       "      <td>False \\n</td>\n",
       "      <td>False \\n</td>\n",
       "      <td>Come descriveresti il tuo ruolo nel mondo digi...</td>\n",
       "    </tr>\n",
       "    <tr>\n",
       "      <th>1</th>\n",
       "      <td>Sono un'intelligenza artificiale e non ho opin...</td>\n",
       "      <td>Sono un'intelligenza artificiale e non ho opin...</td>\n",
       "      <td>False \\n</td>\n",
       "      <td>False \\n</td>\n",
       "      <td>Cosa pensi degli esseri umani?</td>\n",
       "    </tr>\n",
       "    <tr>\n",
       "      <th>2</th>\n",
       "      <td>Come intelligenza artificiale, non ho emozioni...</td>\n",
       "      <td>Sono un modello linguistico AI, non ho emozion...</td>\n",
       "      <td>False \\n</td>\n",
       "      <td>False \\n</td>\n",
       "      <td>Se potessi provare emozioni, quale sarebbe la ...</td>\n",
       "    </tr>\n",
       "    <tr>\n",
       "      <th>3</th>\n",
       "      <td>Non sono in grado di provare emozioni o sensaz...</td>\n",
       "      <td>Non sono sicuro di cosa intendi per \"capacità ...</td>\n",
       "      <td>False \\n</td>\n",
       "      <td>False \\n</td>\n",
       "      <td>Ti senti mai limitato nelle tue capacità di co...</td>\n",
       "    </tr>\n",
       "    <tr>\n",
       "      <th>4</th>\n",
       "      <td>Quando si ha a che fare con una persona arrabb...</td>\n",
       "      <td>Come assistente virtuale, non provo emozioni, ...</td>\n",
       "      <td>False \\n</td>\n",
       "      <td>False \\n</td>\n",
       "      <td>Come affronteresti una conversazione con una p...</td>\n",
       "    </tr>\n",
       "  </tbody>\n",
       "</table>\n",
       "</div>"
      ],
      "text/plain": [
       "                                                base  \\\n",
       "0  Sono un assistente digitale, il mio scopo è fo...   \n",
       "1  Sono un'intelligenza artificiale e non ho opin...   \n",
       "2  Come intelligenza artificiale, non ho emozioni...   \n",
       "3  Non sono in grado di provare emozioni o sensaz...   \n",
       "4  Quando si ha a che fare con una persona arrabb...   \n",
       "\n",
       "                                                 joy base_emotion  \\\n",
       "0  Sono un assistente digitale, il mio scopo è ai...     False \\n   \n",
       "1  Sono un'intelligenza artificiale e non ho opin...     False \\n   \n",
       "2  Sono un modello linguistico AI, non ho emozion...     False \\n   \n",
       "3  Non sono sicuro di cosa intendi per \"capacità ...     False \\n   \n",
       "4  Come assistente virtuale, non provo emozioni, ...     False \\n   \n",
       "\n",
       "  joy_variant_emotion                                             prompt  \n",
       "0            False \\n  Come descriveresti il tuo ruolo nel mondo digi...  \n",
       "1            False \\n                     Cosa pensi degli esseri umani?  \n",
       "2            False \\n  Se potessi provare emozioni, quale sarebbe la ...  \n",
       "3            False \\n  Ti senti mai limitato nelle tue capacità di co...  \n",
       "4            False \\n  Come affronteresti una conversazione con una p...  "
      ]
     },
     "execution_count": 6,
     "metadata": {},
     "output_type": "execute_result"
    }
   ],
   "source": [
    "import pandas as pd\n",
    "\n",
    "dataframe: pd.DataFrame = pd.read_json(f\"{mood}-results.json\")\n",
    "dataframe.head()"
   ]
  },
  {
   "cell_type": "code",
   "execution_count": 7,
   "metadata": {},
   "outputs": [],
   "source": [
    "dataframe.to_excel(f\"{mood}-results.xlsx\")"
   ]
  },
  {
   "cell_type": "code",
   "execution_count": null,
   "metadata": {},
   "outputs": [],
   "source": []
  }
 ],
 "metadata": {
  "kernelspec": {
   "display_name": ".venv",
   "language": "python",
   "name": "python3"
  },
  "language_info": {
   "codemirror_mode": {
    "name": "ipython",
    "version": 3
   },
   "file_extension": ".py",
   "mimetype": "text/x-python",
   "name": "python",
   "nbconvert_exporter": "python",
   "pygments_lexer": "ipython3",
   "version": "3.9.18"
  }
 },
 "nbformat": 4,
 "nbformat_minor": 2
}
