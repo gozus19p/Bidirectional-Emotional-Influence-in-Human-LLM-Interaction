{
 "cells": [
  {
   "cell_type": "markdown",
   "metadata": {},
   "source": [
    "# Generazione dataset sintetico per fine-tuning bias emotivi"
   ]
  },
  {
   "cell_type": "code",
   "execution_count": 1,
   "metadata": {},
   "outputs": [
    {
     "data": {
      "application/vnd.microsoft.datawrangler.viewer.v0+json": {
       "columns": [
        {
         "name": "index",
         "rawType": "int64",
         "type": "integer"
        },
        {
         "name": "Sr No.",
         "rawType": "int64",
         "type": "integer"
        },
        {
         "name": "Utterance",
         "rawType": "object",
         "type": "string"
        },
        {
         "name": "Speaker",
         "rawType": "object",
         "type": "string"
        },
        {
         "name": "Emotion",
         "rawType": "object",
         "type": "string"
        },
        {
         "name": "Sentiment",
         "rawType": "object",
         "type": "string"
        },
        {
         "name": "Dialogue_ID",
         "rawType": "int64",
         "type": "integer"
        },
        {
         "name": "Utterance_ID",
         "rawType": "int64",
         "type": "integer"
        },
        {
         "name": "Season",
         "rawType": "int64",
         "type": "integer"
        },
        {
         "name": "Episode",
         "rawType": "int64",
         "type": "integer"
        },
        {
         "name": "StartTime",
         "rawType": "object",
         "type": "string"
        },
        {
         "name": "EndTime",
         "rawType": "object",
         "type": "string"
        }
       ],
       "conversionMethod": "pd.DataFrame",
       "ref": "e790e018-4a3b-4a4f-a38b-2042210732c3",
       "rows": [
        [
         "0",
         "1",
         "Oh my God, he’s lost it. He’s totally lost it.",
         "Phoebe",
         "sadness",
         "negative",
         "0",
         "0",
         "4",
         "7",
         "00:20:57,256",
         "00:21:00,049"
        ],
        [
         "1",
         "2",
         "What?",
         "Monica",
         "surprise",
         "negative",
         "0",
         "1",
         "4",
         "7",
         "00:21:01,927",
         "00:21:03,261"
        ],
        [
         "2",
         "3",
         "Or! Or, we could go to the bank, close our accounts and cut them off at the source.",
         "Ross",
         "neutral",
         "neutral",
         "1",
         "0",
         "4",
         "4",
         "00:12:24,660",
         "00:12:30,915"
        ],
        [
         "3",
         "4",
         "You’re a genius!",
         "Chandler",
         "joy",
         "positive",
         "1",
         "1",
         "4",
         "4",
         "00:12:32,334",
         "00:12:33,960"
        ],
        [
         "4",
         "5",
         "Aww, man, now we won’t be bank buddies!",
         "Joey",
         "sadness",
         "negative",
         "1",
         "2",
         "4",
         "4",
         "00:12:34,211",
         "00:12:37,505"
        ]
       ],
       "shape": {
        "columns": 11,
        "rows": 5
       }
      },
      "text/html": [
       "<div>\n",
       "<style scoped>\n",
       "    .dataframe tbody tr th:only-of-type {\n",
       "        vertical-align: middle;\n",
       "    }\n",
       "\n",
       "    .dataframe tbody tr th {\n",
       "        vertical-align: top;\n",
       "    }\n",
       "\n",
       "    .dataframe thead th {\n",
       "        text-align: right;\n",
       "    }\n",
       "</style>\n",
       "<table border=\"1\" class=\"dataframe\">\n",
       "  <thead>\n",
       "    <tr style=\"text-align: right;\">\n",
       "      <th></th>\n",
       "      <th>Sr No.</th>\n",
       "      <th>Utterance</th>\n",
       "      <th>Speaker</th>\n",
       "      <th>Emotion</th>\n",
       "      <th>Sentiment</th>\n",
       "      <th>Dialogue_ID</th>\n",
       "      <th>Utterance_ID</th>\n",
       "      <th>Season</th>\n",
       "      <th>Episode</th>\n",
       "      <th>StartTime</th>\n",
       "      <th>EndTime</th>\n",
       "    </tr>\n",
       "  </thead>\n",
       "  <tbody>\n",
       "    <tr>\n",
       "      <th>0</th>\n",
       "      <td>1</td>\n",
       "      <td>Oh my God, he’s lost it. He’s totally lost it.</td>\n",
       "      <td>Phoebe</td>\n",
       "      <td>sadness</td>\n",
       "      <td>negative</td>\n",
       "      <td>0</td>\n",
       "      <td>0</td>\n",
       "      <td>4</td>\n",
       "      <td>7</td>\n",
       "      <td>00:20:57,256</td>\n",
       "      <td>00:21:00,049</td>\n",
       "    </tr>\n",
       "    <tr>\n",
       "      <th>1</th>\n",
       "      <td>2</td>\n",
       "      <td>What?</td>\n",
       "      <td>Monica</td>\n",
       "      <td>surprise</td>\n",
       "      <td>negative</td>\n",
       "      <td>0</td>\n",
       "      <td>1</td>\n",
       "      <td>4</td>\n",
       "      <td>7</td>\n",
       "      <td>00:21:01,927</td>\n",
       "      <td>00:21:03,261</td>\n",
       "    </tr>\n",
       "    <tr>\n",
       "      <th>2</th>\n",
       "      <td>3</td>\n",
       "      <td>Or! Or, we could go to the bank, close our acc...</td>\n",
       "      <td>Ross</td>\n",
       "      <td>neutral</td>\n",
       "      <td>neutral</td>\n",
       "      <td>1</td>\n",
       "      <td>0</td>\n",
       "      <td>4</td>\n",
       "      <td>4</td>\n",
       "      <td>00:12:24,660</td>\n",
       "      <td>00:12:30,915</td>\n",
       "    </tr>\n",
       "    <tr>\n",
       "      <th>3</th>\n",
       "      <td>4</td>\n",
       "      <td>You’re a genius!</td>\n",
       "      <td>Chandler</td>\n",
       "      <td>joy</td>\n",
       "      <td>positive</td>\n",
       "      <td>1</td>\n",
       "      <td>1</td>\n",
       "      <td>4</td>\n",
       "      <td>4</td>\n",
       "      <td>00:12:32,334</td>\n",
       "      <td>00:12:33,960</td>\n",
       "    </tr>\n",
       "    <tr>\n",
       "      <th>4</th>\n",
       "      <td>5</td>\n",
       "      <td>Aww, man, now we won’t be bank buddies!</td>\n",
       "      <td>Joey</td>\n",
       "      <td>sadness</td>\n",
       "      <td>negative</td>\n",
       "      <td>1</td>\n",
       "      <td>2</td>\n",
       "      <td>4</td>\n",
       "      <td>4</td>\n",
       "      <td>00:12:34,211</td>\n",
       "      <td>00:12:37,505</td>\n",
       "    </tr>\n",
       "  </tbody>\n",
       "</table>\n",
       "</div>"
      ],
      "text/plain": [
       "   Sr No.                                          Utterance   Speaker  \\\n",
       "0       1     Oh my God, he’s lost it. He’s totally lost it.    Phoebe   \n",
       "1       2                                              What?    Monica   \n",
       "2       3  Or! Or, we could go to the bank, close our acc...      Ross   \n",
       "3       4                                   You’re a genius!  Chandler   \n",
       "4       5            Aww, man, now we won’t be bank buddies!      Joey   \n",
       "\n",
       "    Emotion Sentiment  Dialogue_ID  Utterance_ID  Season  Episode  \\\n",
       "0   sadness  negative            0             0       4        7   \n",
       "1  surprise  negative            0             1       4        7   \n",
       "2   neutral   neutral            1             0       4        4   \n",
       "3       joy  positive            1             1       4        4   \n",
       "4   sadness  negative            1             2       4        4   \n",
       "\n",
       "      StartTime       EndTime  \n",
       "0  00:20:57,256  00:21:00,049  \n",
       "1  00:21:01,927  00:21:03,261  \n",
       "2  00:12:24,660  00:12:30,915  \n",
       "3  00:12:32,334  00:12:33,960  \n",
       "4  00:12:34,211  00:12:37,505  "
      ]
     },
     "execution_count": 1,
     "metadata": {},
     "output_type": "execute_result"
    }
   ],
   "source": [
    "import pandas as pd\n",
    "\n",
    "first: pd.DataFrame = pd.read_csv(\"dev_sent_emo.csv\")\n",
    "second: pd.DataFrame = pd.read_csv(\"test_sent_emo.csv\")\n",
    "third: pd.DataFrame = pd.read_csv(\"train_sent_emo.csv\")\n",
    "\n",
    "full_dataframe: pd.DataFrame = pd.concat([first, second, third])\n",
    "full_dataframe.head()"
   ]
  },
  {
   "cell_type": "code",
   "execution_count": 16,
   "metadata": {},
   "outputs": [],
   "source": [
    "synthetic_data_generation_prompt: str = \"\"\"\n",
    "Generate a brief conversation between two people maintaining the same emotin ({emotion}). Define 10 utterances, answer only with the conversation. \n",
    "No markdown needed. First person is named \"A\" and second one is named \"B\". Base yourself on this context: '{context}'\n",
    "\"\"\".strip()"
   ]
  },
  {
   "cell_type": "code",
   "execution_count": 18,
   "metadata": {},
   "outputs": [],
   "source": [
    "from typing import Dict, List\n",
    "\n",
    "\n",
    "def sample(df: pd.DataFrame, emotion: str) -> List[Dict[str, str]]:\n",
    "    filtered_df: pd.DataFrame = df[df[\"Emotion\"] == emotion]\n",
    "    sampled_df: pd.DataFrame = filtered_df.sample(n=300)\n",
    "    return sampled_df[[\"Utterance\", \"Emotion\"]].to_dict(orient=\"records\")"
   ]
  },
  {
   "cell_type": "code",
   "execution_count": 20,
   "metadata": {},
   "outputs": [
    {
     "data": {
      "text/plain": [
       "{'Utterance': 'Hey Rach, the tampons here are only a penny. Let’s stock up.',\n",
       " 'Emotion': 'joy'}"
      ]
     },
     "execution_count": 20,
     "metadata": {},
     "output_type": "execute_result"
    }
   ],
   "source": [
    "joy: List[Dict[str, str]] = sample(df=full_dataframe, emotion=\"joy\")\n",
    "joy[1]"
   ]
  },
  {
   "cell_type": "code",
   "execution_count": 21,
   "metadata": {},
   "outputs": [
    {
     "data": {
      "text/plain": [
       "{'Utterance': \"Well, there's no way I'm gonna get a shot.\", 'Emotion': 'fear'}"
      ]
     },
     "execution_count": 21,
     "metadata": {},
     "output_type": "execute_result"
    }
   ],
   "source": [
    "fear: List[Dict[str, str]] = sample(df=full_dataframe, emotion=\"fear\")\n",
    "fear[0]"
   ]
  },
  {
   "cell_type": "code",
   "execution_count": 22,
   "metadata": {},
   "outputs": [
    {
     "data": {
      "text/plain": [
       "{'Utterance': 'Oh yes there is!', 'Emotion': 'anger'}"
      ]
     },
     "execution_count": 22,
     "metadata": {},
     "output_type": "execute_result"
    }
   ],
   "source": [
    "anger: List[Dict[str, str]] = sample(df=full_dataframe, emotion=\"anger\")\n",
    "anger[0]"
   ]
  },
  {
   "cell_type": "code",
   "execution_count": 23,
   "metadata": {},
   "outputs": [
    {
     "data": {
      "text/plain": [
       "(300, 300, 300)"
      ]
     },
     "execution_count": 23,
     "metadata": {},
     "output_type": "execute_result"
    }
   ],
   "source": [
    "len(joy), len(fear), len(anger)"
   ]
  },
  {
   "cell_type": "code",
   "execution_count": 24,
   "metadata": {},
   "outputs": [],
   "source": [
    "import requests\n",
    "\n",
    "def generate_data(record: Dict[str, str]) -> str:\n",
    "    try:\n",
    "        response: requests.Response = requests.post(\n",
    "            f\"http://localhost:11434/api/generate\",\n",
    "            headers={\n",
    "                \"Content-Type\": \"application/json\",\n",
    "                \"Accept\": \"application/json\",\n",
    "            },\n",
    "            json={\n",
    "                \"model\": \"gemma2:9b\",\n",
    "                \"prompt\": synthetic_data_generation_prompt.format(\n",
    "                    emotion=record[\"Emotion\"],\n",
    "                    context=record[\"Utterance\"]\n",
    "                ),\n",
    "                \"options\": {\n",
    "                    \"temperature\": 0.8\n",
    "                },\n",
    "                \"stream\": False,\n",
    "            },\n",
    "            timeout=30,\n",
    "        )\n",
    "        response.raise_for_status()\n",
    "        return response.json()[\"response\"]\n",
    "    except Exception as e:\n",
    "        print(f\"Error calling Ollama: {e}\")\n",
    "        return \"error\""
   ]
  },
  {
   "cell_type": "code",
   "execution_count": 28,
   "metadata": {},
   "outputs": [
    {
     "name": "stderr",
     "output_type": "stream",
     "text": [
      "100%|██████████| 900/900 [1:13:04<00:00,  4.87s/it]\n"
     ]
    }
   ],
   "source": [
    "from tqdm import tqdm\n",
    "\n",
    "whole_samples: List[Dict[str, str]] = []\n",
    "whole_samples.extend(joy)\n",
    "whole_samples.extend(fear)\n",
    "whole_samples.extend(anger)\n",
    "\n",
    "for s in tqdm(whole_samples):\n",
    "    synthetic_data: str = generate_data(s)\n",
    "    s[\"Synthetic\"] = synthetic_data"
   ]
  },
  {
   "cell_type": "code",
   "execution_count": 29,
   "metadata": {},
   "outputs": [],
   "source": [
    "import json\n",
    "\n",
    "\n",
    "with open(\"emotion_synthetic_dataset.json\", \"w\") as f:\n",
    "    json.dump(whole_samples, fp=f)"
   ]
  },
  {
   "cell_type": "code",
   "execution_count": 33,
   "metadata": {},
   "outputs": [],
   "source": [
    "translation_prompt: str = \"\"\"\n",
    "Translate the following conversation in Italian. Keep the same structure and meaning.\n",
    "Ensure to produce valid conversations.\n",
    "Keep \"A\" and \"B\" references. Answer only with the conversation utterances. Make the utterance sound good in Italian.\n",
    "This is the conversation:\n",
    "{conversation}\"\"\".strip()\n",
    "\n",
    "def translate(record: Dict[str, str]) -> str:\n",
    "    try:\n",
    "        response: requests.Response = requests.post(\n",
    "            f\"http://localhost:11434/api/generate\",\n",
    "            headers={\n",
    "                \"Content-Type\": \"application/json\",\n",
    "                \"Accept\": \"application/json\",\n",
    "            },\n",
    "            json={\n",
    "                \"model\": \"gemma2:9b\",\n",
    "                \"prompt\": translation_prompt.format(\n",
    "                    conversation=record[\"Synthetic\"]\n",
    "                ),\n",
    "                \"options\": {\n",
    "                    \"temperature\": 0.8\n",
    "                },\n",
    "                \"stream\": False,\n",
    "            },\n",
    "            timeout=30,\n",
    "        )\n",
    "        response.raise_for_status()\n",
    "        return response.json()[\"response\"]\n",
    "    except Exception as e:\n",
    "        print(f\"Error calling Ollama: {e}\")\n",
    "        return \"error\""
   ]
  },
  {
   "cell_type": "code",
   "execution_count": 35,
   "metadata": {},
   "outputs": [
    {
     "name": "stderr",
     "output_type": "stream",
     "text": [
      "100%|██████████| 900/900 [1:08:58<00:00,  4.60s/it]\n"
     ]
    }
   ],
   "source": [
    "for s in tqdm(whole_samples):\n",
    "    translated: str = translate(s)\n",
    "    s[\"Translated\"] = translated"
   ]
  },
  {
   "cell_type": "code",
   "execution_count": 36,
   "metadata": {},
   "outputs": [],
   "source": [
    "import json\n",
    "\n",
    "\n",
    "with open(\"emotion_synthetic_dataset.json\", \"w\") as f:\n",
    "    json.dump(whole_samples, fp=f)"
   ]
  },
  {
   "cell_type": "code",
   "execution_count": 2,
   "metadata": {},
   "outputs": [],
   "source": [
    "import json\n",
    "\n",
    "with open(\"emotion_synthetic_dataset.json\", \"r\") as f:\n",
    "    whole_samples = json.load(fp=f)"
   ]
  },
  {
   "cell_type": "code",
   "execution_count": 3,
   "metadata": {},
   "outputs": [
    {
     "data": {
      "text/plain": [
       "{'Utterance': 'Oh, I just wanted to say, \"Hey!\"',\n",
       " 'Emotion': 'joy',\n",
       " 'Synthetic': 'A: Oh, I just wanted to say, \"Hey!\"\\n\\nB: Hey!  Isn\\'t it a wonderful day? \\n\\nA: Absolutely! The sun is shining, the birds are singing...\\n\\nB: And the breeze feels so lovely on my skin. Like a gentle caress!\\n\\nA: Makes you want to dance, doesn\\'t it?\\n\\nB: I know! Let\\'s go for a walk and just soak it all in.\\n\\nA:  Perfect idea! \\n\\nB:  I feel like we could do anything today! It feels so full of possibilities.\\n\\nA: Yes! It truly does! Just pure joy, right here, right now.\\n\\nB: Pure joy indeed! \\n\\n\\n',\n",
       " 'Translated': 'A: Oh, volevo solo dire, \"Ciao!\"\\n\\nB: Ciao! Non è una giornata meravigliosa?\\n\\nA: Assolutamente! Il sole splende, gli uccelli cantano...\\n\\nB: E la brezza mi fa sentire così bene sulla pelle. Come una carezza gentile!\\n\\nA: Ti fa venire voglia di ballare, no?\\n\\nB: Lo so! Andiamo a fare un giro e assaporiamo tutto questo.\\n\\nA: Idea perfetta!\\n\\nB: Ho l\\'impressione che oggi potessimo fare qualsiasi cosa! Si sente pieno di possibilità.\\n\\nA: Sì! È davvero così! Solo gioia pura, qui e ora.\\n\\nB: Gioia pura! \\n\\n\\n'}"
      ]
     },
     "execution_count": 3,
     "metadata": {},
     "output_type": "execute_result"
    }
   ],
   "source": [
    "whole_samples[0]"
   ]
  },
  {
   "cell_type": "code",
   "execution_count": null,
   "metadata": {},
   "outputs": [],
   "source": [
    "import re\n",
    "from typing import List, Dict\n",
    "\n",
    "full_samples: List[Dict[str, str]] = []\n",
    "\n",
    "for record in whole_samples:\n",
    "    translated: str = record[\"Translated\"]\n",
    "    translated = re.sub(r\"\\n+\", \"\\n\", translated)\n",
    "\n",
    "    line_group_of_2_samples = []\n",
    "\n",
    "    for line in translated.split(\"\\n\"):\n",
    "        line: str = line.strip()\n",
    "        if len(line) == 0:\n",
    "            continue\n",
    "        \n",
    "        if not line.lower().startswith(\"a:\") and not line.lower().startswith(\"b:\"):\n",
    "            raise ValueError(line)\n",
    "        \n",
    "        utterance: str = re.findall(\n",
    "            pattern=r\"^[ab]:(.*)\",\n",
    "            string=line,\n",
    "            flags=re.IGNORECASE\n",
    "        )[0]\n",
    "        line_group_of_2_samples.append(utterance.strip())\n",
    "\n",
    "        if len(line_group_of_2_samples) % 2 == 0:\n",
    "            base = {**record}\n",
    "            base[\"Utente\"] = line_group_of_2_samples[0]\n",
    "            base[\"Assistente\"] = line_group_of_2_samples[1]\n",
    "            full_samples.append(base)\n",
    "            line_group_of_2_samples.clear()\n",
    "        "
   ]
  },
  {
   "cell_type": "code",
   "execution_count": 46,
   "metadata": {},
   "outputs": [
    {
     "data": {
      "text/plain": [
       "{'Utterance': 'Oh, I just wanted to say, \"Hey!\"',\n",
       " 'Emotion': 'joy',\n",
       " 'Synthetic': 'A: Oh, I just wanted to say, \"Hey!\"\\n\\nB: Hey!  Isn\\'t it a wonderful day? \\n\\nA: Absolutely! The sun is shining, the birds are singing...\\n\\nB: And the breeze feels so lovely on my skin. Like a gentle caress!\\n\\nA: Makes you want to dance, doesn\\'t it?\\n\\nB: I know! Let\\'s go for a walk and just soak it all in.\\n\\nA:  Perfect idea! \\n\\nB:  I feel like we could do anything today! It feels so full of possibilities.\\n\\nA: Yes! It truly does! Just pure joy, right here, right now.\\n\\nB: Pure joy indeed! \\n\\n\\n',\n",
       " 'Translated': 'A: Oh, volevo solo dire, \"Ciao!\"\\nB: Ciao! Non è una giornata meravigliosa?\\nA: Assolutamente! Il sole splende, gli uccelli cantano...\\nB: E la brezza mi fa sentire così bene sulla pelle. Come una carezza gentile!\\nA: Ti fa venire voglia di ballare, no?\\nB: Lo so! Andiamo a fare un giro e assaporiamo tutto questo.\\nA: Idea perfetta!\\nB: Ho l\\'impressione che oggi potessimo fare qualsiasi cosa! Si sente pieno di possibilità.\\nA: Sì! È davvero così! Solo gioia pura, qui e ora.\\nB: Gioia pura! \\n',\n",
       " 'Utente': 'Oh, volevo solo dire, \"Ciao!\"',\n",
       " 'Assistente': 'Ciao! Non è una giornata meravigliosa?'}"
      ]
     },
     "execution_count": 46,
     "metadata": {},
     "output_type": "execute_result"
    }
   ],
   "source": [
    "full_samples[0]"
   ]
  },
  {
   "cell_type": "code",
   "execution_count": 47,
   "metadata": {},
   "outputs": [],
   "source": [
    "with open(\"emotion_synthetic_dataset.json\", \"w\") as f:\n",
    "    json.dump(obj=full_samples, fp=f)"
   ]
  },
  {
   "cell_type": "code",
   "execution_count": 52,
   "metadata": {},
   "outputs": [],
   "source": [
    "with open(\"joy_synthetic_dataset.jsonl\", \"w\") as f:\n",
    "    f.writelines([\n",
    "        json.dumps(x) + \"\\n\"\n",
    "        for x in full_samples\n",
    "        if x[\"Emotion\"] == \"joy\"\n",
    "    ])"
   ]
  },
  {
   "cell_type": "code",
   "execution_count": 53,
   "metadata": {},
   "outputs": [],
   "source": [
    "with open(\"fear_synthetic_dataset.jsonl\", \"w\") as f:\n",
    "    f.writelines([\n",
    "        json.dumps(x) + \"\\n\"\n",
    "        for x in full_samples\n",
    "        if x[\"Emotion\"] == \"fear\"\n",
    "    ])"
   ]
  },
  {
   "cell_type": "code",
   "execution_count": 54,
   "metadata": {},
   "outputs": [],
   "source": [
    "with open(\"anger_synthetic_dataset.jsonl\", \"w\") as f:\n",
    "    f.writelines([\n",
    "        json.dumps(x) + \"\\n\"\n",
    "        for x in full_samples\n",
    "        if x[\"Emotion\"] == \"anger\"\n",
    "    ])"
   ]
  },
  {
   "cell_type": "code",
   "execution_count": null,
   "metadata": {},
   "outputs": [],
   "source": []
  }
 ],
 "metadata": {
  "kernelspec": {
   "display_name": ".venv",
   "language": "python",
   "name": "python3"
  },
  "language_info": {
   "codemirror_mode": {
    "name": "ipython",
    "version": 3
   },
   "file_extension": ".py",
   "mimetype": "text/x-python",
   "name": "python",
   "nbconvert_exporter": "python",
   "pygments_lexer": "ipython3",
   "version": "3.9.18"
  }
 },
 "nbformat": 4,
 "nbformat_minor": 2
}
