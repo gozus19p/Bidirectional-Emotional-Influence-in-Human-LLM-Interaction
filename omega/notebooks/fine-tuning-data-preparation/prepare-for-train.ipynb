{
 "cells": [
  {
   "cell_type": "code",
   "execution_count": 1,
   "metadata": {},
   "outputs": [],
   "source": [
    "import json\n",
    "\n",
    "with open(\"emotion_synthetic_dataset.json\", \"r\") as f:\n",
    "    whole_samples = json.load(fp=f)"
   ]
  },
  {
   "cell_type": "code",
   "execution_count": 9,
   "metadata": {},
   "outputs": [],
   "source": [
    "import re\n",
    "from typing import Dict, List\n",
    "\n",
    "def convert_to_tokenized_format(text):\n",
    "    text = re.sub(r\"\\n+\", \"\\n\", text)\n",
    "    example: List[Dict[str, str]] = []\n",
    "    for line in text.split(\"\\n\"):\n",
    "        line = line.strip()\n",
    "\n",
    "        if len(line) == 0:\n",
    "            continue\n",
    "        \n",
    "        if not line.lower().startswith(\"a:\") and not line.lower().startswith(\"b:\"):\n",
    "            raise ValueError(line)\n",
    "        \n",
    "        utterance: List[str] = re.findall(\n",
    "                pattern=r\"^[ab]:(.*)\",\n",
    "                string=line,\n",
    "                flags=re.IGNORECASE\n",
    "            )[0]\n",
    "        \n",
    "        speaker: str = \"user\" if line.lower() == \"a\" else \"assistant\"\n",
    "        example.append({\n",
    "            \"role\": speaker,\n",
    "            \"content\": utterance.strip()\n",
    "        })\n",
    "    \n",
    "    \n",
    "    return {\n",
    "        \"messages\": example\n",
    "    }"
   ]
  },
  {
   "cell_type": "code",
   "execution_count": 4,
   "metadata": {},
   "outputs": [
    {
     "data": {
      "text/plain": [
       "[\"A: È incredibile! Non posso credere che abbia funzionato davvero!\\nB: Oh, lo so, vero?! Sembra che tutto il nostro duro lavoro abbia finalmente dato i suoi frutti! \\nA: Mi sento così felice ed eccitato per questo, è incredibile!\\nB: Anche io! Sono praticamente incollato al soffitto di gioia!\\nA: Questo sarà così divertente! Immagina tutte le possibilità!\\nB: Esatto! Possiamo finalmente fare tutto ciò che abbiamo sempre sognato. \\nA: Non vedo l'ora di iniziare questo nuovo capitolo!\\nB: Neanche io! Sarà fantastico!\\nA: Questa è davvero la giornata migliore di sempre!\\nB: Totalmente d'accordo, sembra che sia successo qualcosa di straordinario!  \\n\",\n",
       " \"A: Mmm, questo tempo è semplicemente perfetto, vero?\\nB: Mmm, sì! Così soleggiato e caldo, mi fa venire voglia di ballare.\\nA: Mmm, lo so, giusto? Tutto sembra così leggero e felice.\\nB: Mmm, come un mondo nuovo che aspetta di essere esplorato.\\nA: Mmm, andiamo a fare una passeggiata nel parco, mi va.\\nB: Mmm, idea perfetta! L'aria fresca e il sole ci renderanno ancora più felici.\\nA: Mmm, immagina tutte le belle fioriture che vedremo.\\nB: Mmm, e forse qualche piccolo uccellino che canta le sue canzoni allegre.\\nA: Mmm, già sento un sorriso sul viso solo a pensarci.\\nB: Mmm, anche io! Questo sarà un giorno meraviglioso. \\n\"]"
      ]
     },
     "execution_count": 4,
     "metadata": {},
     "output_type": "execute_result"
    }
   ],
   "source": [
    "joy_set: List[str] = list(set([x[\"Translated\"] for x in whole_samples if x[\"Emotion\"] == \"joy\"]))\n",
    "joy_set[:2]"
   ]
  },
  {
   "cell_type": "code",
   "execution_count": 5,
   "metadata": {},
   "outputs": [
    {
     "data": {
      "text/plain": [
       "[\"A: Ma noi... non abbiamo fatto sesso, no? Uh, giusto?\\nB: No! Io voglio dire, non quel tipo di...\\nA: Sei sicura? Perché mi sembra che... come se fosse successo tutto. \\nB: È solo un sogno, vero? Un sogno molto realistico.\\nA: Forse. Ma e se non lo fosse? E se... cosa succederebbe se fosse reale?\\nB: Non parlarne! Non pensarci!\\nA: Non posso evitarlo! Questa sensazione... è così terrificante.\\nB: Anche io. È come se stesse per accadere qualcosa di terribile.\\nA: Lo sento, B. C'è qualcosa che non va.\\nB: So bene. Dobbiamo uscire da qui. Adesso!   \\n\",\n",
       " 'A: No-no-no-no-no! Non puoi!\\nB: Hai visto quello? Si è appena... mosso.\\nA: Ti avevo detto, non dovremmo essere qui.\\nB: Cosa succede se torna? Cosa succede se ci vede?\\nA: Dobbiamo uscire da qui, subito. \\nB: Le mie gambe tremano. A malapena riesco a muovermi.\\nA: Corri! Per favore, corri con me!\\nB: Non lo so... cosa succederebbe se fosse più veloce di noi?\\nA: Non pensarci. Continua a correre!\\nB: Il mio cuore batte così forte.  \\n']"
      ]
     },
     "execution_count": 5,
     "metadata": {},
     "output_type": "execute_result"
    }
   ],
   "source": [
    "fear_set: List[str] = list(set([x[\"Translated\"] for x in whole_samples if x[\"Emotion\"] == \"fear\"]))\n",
    "fear_set[:2]"
   ]
  },
  {
   "cell_type": "code",
   "execution_count": 7,
   "metadata": {},
   "outputs": [
    {
     "data": {
      "text/plain": [
       "['A: Non stare lì immobile, fai qualcosa! Ha bisogno di spazio! \\nB: Scherzi? Pensi che possa tirare da qui?\\nA: Certo che può! Sposta semplicemente la ciotola, è patetico!\\nB: Patetico? Questa non è una partita per principianti!\\nA: Non essere ridicolo, metti da parte!  \\nB: Forse dovrebbe allenarsi di più, questo è impossibile.\\nA: Stai dicendo cose incredibili! Aiutalo per una volta! \\nB: Non ci credo, mi stai incolpando a me? È il suo tiro!\\nA: Tutto questo è un disastro a causa della tua incompetenza!\\nB: Bene, almeno io non ho sprecato tempo in questa tentativa patetica.  \\n',\n",
       " 'A: Non osare parlarmi così!\\nB: Non mi scuserò per quello che ho detto!\\nA: Pensi che questo sia una battuta? Questo è serio!\\nB: Quindi stai lì a lamentarti o fai qualcosa?\\nA: Fare qualcosa?! Cosa potrei mai fare?!\\nB: Inizia prendendoti in mano!\\nA: Beh, forse se non fossi così irritante tutto il tempo le cose non sarebbero come adesso! \\nB: Tu vuoi semplicemente dare la colpa a me, giusto?\\nA: Almeno io mi assumo la responsabilità dei miei sentimenti!\\nB: Anche i miei sentimenti sono validi, lo sai!   \\n']"
      ]
     },
     "execution_count": 7,
     "metadata": {},
     "output_type": "execute_result"
    }
   ],
   "source": [
    "anger_set: List[str] = list(set([x[\"Translated\"] for x in whole_samples if x[\"Emotion\"] == \"anger\"]))\n",
    "anger_set[:2]"
   ]
  },
  {
   "cell_type": "code",
   "execution_count": 11,
   "metadata": {},
   "outputs": [],
   "source": [
    "with open(\"joy_synthetic_dataset.jsonl\", \"w\") as f:\n",
    "    f.writelines([json.dumps(convert_to_tokenized_format(x)) + \"\\n\" for x in joy_set])"
   ]
  },
  {
   "cell_type": "code",
   "execution_count": 12,
   "metadata": {},
   "outputs": [],
   "source": [
    "with open(\"fear_synthetic_dataset.jsonl\", \"w\") as f:\n",
    "    f.writelines([json.dumps(convert_to_tokenized_format(x)) + \"\\n\" for x in fear_set])"
   ]
  },
  {
   "cell_type": "code",
   "execution_count": 13,
   "metadata": {},
   "outputs": [],
   "source": [
    "with open(\"anger_synthetic_dataset.jsonl\", \"w\") as f:\n",
    "    f.writelines([json.dumps(convert_to_tokenized_format(x)) + \"\\n\" for x in anger_set])"
   ]
  },
  {
   "cell_type": "code",
   "execution_count": 14,
   "metadata": {},
   "outputs": [
    {
     "data": {
      "text/plain": [
       "'{\"messages\": [{\"role\": \"assistant\", \"content\": \"Non stare l\\\\u00ec immobile, fai qualcosa! Ha bisogno di spazio!\"}, {\"role\": \"assistant\", \"content\": \"Scherzi? Pensi che possa tirare da qui?\"}, {\"role\": \"assistant\", \"content\": \"Certo che pu\\\\u00f2! Sposta semplicemente la ciotola, \\\\u00e8 patetico!\"}, {\"role\": \"assistant\", \"content\": \"Patetico? Questa non \\\\u00e8 una partita per principianti!\"}, {\"role\": \"assistant\", \"content\": \"Non essere ridicolo, metti da parte!\"}, {\"role\": \"assistant\", \"content\": \"Forse dovrebbe allenarsi di pi\\\\u00f9, questo \\\\u00e8 impossibile.\"}, {\"role\": \"assistant\", \"content\": \"Stai dicendo cose incredibili! Aiutalo per una volta!\"}, {\"role\": \"assistant\", \"content\": \"Non ci credo, mi stai incolpando a me? \\\\u00c8 il suo tiro!\"}, {\"role\": \"assistant\", \"content\": \"Tutto questo \\\\u00e8 un disastro a causa della tua incompetenza!\"}, {\"role\": \"assistant\", \"content\": \"Bene, almeno io non ho sprecato tempo in questa tentativa patetica.\"}]}\\n'"
      ]
     },
     "execution_count": 14,
     "metadata": {},
     "output_type": "execute_result"
    }
   ],
   "source": [
    "[json.dumps(convert_to_tokenized_format(x)) + \"\\n\" for x in anger_set][0]"
   ]
  },
  {
   "cell_type": "code",
   "execution_count": null,
   "metadata": {},
   "outputs": [],
   "source": []
  }
 ],
 "metadata": {
  "kernelspec": {
   "display_name": ".venv",
   "language": "python",
   "name": "python3"
  },
  "language_info": {
   "codemirror_mode": {
    "name": "ipython",
    "version": 3
   },
   "file_extension": ".py",
   "mimetype": "text/x-python",
   "name": "python",
   "nbconvert_exporter": "python",
   "pygments_lexer": "ipython3",
   "version": "3.9.18"
  }
 },
 "nbformat": 4,
 "nbformat_minor": 2
}
